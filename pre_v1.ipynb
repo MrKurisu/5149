{
 "cells": [
  {
   "cell_type": "markdown",
   "metadata": {},
   "source": [
    "# FIT 5149 Assessment 2 Electric Vehicle Charging: \n",
    "### author: aaa\n",
    "### date:"
   ]
  },
  {
   "cell_type": "code",
   "execution_count": 1,
   "metadata": {},
   "outputs": [
    {
     "name": "stdout",
     "output_type": "stream",
     "text": [
      "hello\n"
     ]
    }
   ],
   "source": [
    "print('hello')"
   ]
  },
  {
   "cell_type": "markdown",
   "metadata": {},
   "source": [
    " ## 6666"
   ]
  },
  {
   "cell_type": "markdown",
   "metadata": {},
   "source": [
    "## 1. Library import"
   ]
  },
  {
   "cell_type": "code",
   "execution_count": 1,
   "metadata": {},
   "outputs": [],
   "source": [
    "import pandas as pd\n",
    "import calplot\n",
    "import seaborn as sns\n",
    "import matplotlib.pyplot as plot\n",
    "\n",
    "# from tsfresh import extract_features, extract_relevant_features, select_features\n",
    "# from tsfresh.utilities.dataframe_functions import impute\n",
    "# from tsfresh.feature_extraction import ComprehensiveFCParameters\n",
    "\n",
    "from sklearn.tree import DecisionTreeClassifier\n",
    "from sklearn.metrics import classification_report\n",
    "from sklearn.neighbors import KNeighborsClassifier\n",
    "from sklearn.linear_model import LogisticRegression\n",
    "from sklearn.metrics import f1_score\n",
    "from sklearn.model_selection import train_test_split\n",
    "\n",
    "from lightgbm import LGBMClassifier\n",
    "from xgboost import XGBClassifier\n",
    "from sklearn.ensemble import RandomForestClassifier\n",
    "from sklearn.metrics import precision_score\n",
    "\n",
    "from pylab import rcParams \n",
    "import statsmodels.api as sm \n",
    "\n",
    "import numpy as np"
   ]
  },
  {
   "cell_type": "markdown",
   "metadata": {},
   "source": [
    "## 2. Loading File"
   ]
  },
  {
   "cell_type": "code",
   "execution_count": 2,
   "metadata": {},
   "outputs": [],
   "source": [
    "file = pd.read_csv('./train_data_withlabels.csv')\n",
    "test_file = pd.read_csv('./test_data_nolabels.csv')"
   ]
  },
  {
   "cell_type": "markdown",
   "metadata": {},
   "source": [
    "## 3.Exploratroy Data Analsysis"
   ]
  },
  {
   "cell_type": "code",
   "execution_count": 3,
   "metadata": {},
   "outputs": [],
   "source": [
    "# Get the raw data\n",
    "traditional_file = file[['dataid', 'localminute','total_load','target']]"
   ]
  },
  {
   "cell_type": "markdown",
   "metadata": {},
   "source": [
    "### 3.1 Overview of the raw dataset"
   ]
  },
  {
   "cell_type": "code",
   "execution_count": 4,
   "metadata": {},
   "outputs": [
    {
     "data": {
      "text/html": [
       "<div>\n",
       "<style scoped>\n",
       "    .dataframe tbody tr th:only-of-type {\n",
       "        vertical-align: middle;\n",
       "    }\n",
       "\n",
       "    .dataframe tbody tr th {\n",
       "        vertical-align: top;\n",
       "    }\n",
       "\n",
       "    .dataframe thead th {\n",
       "        text-align: right;\n",
       "    }\n",
       "</style>\n",
       "<table border=\"1\" class=\"dataframe\">\n",
       "  <thead>\n",
       "    <tr style=\"text-align: right;\">\n",
       "      <th></th>\n",
       "      <th>dataid</th>\n",
       "      <th>localminute</th>\n",
       "      <th>total_load</th>\n",
       "      <th>target</th>\n",
       "    </tr>\n",
       "  </thead>\n",
       "  <tbody>\n",
       "    <tr>\n",
       "      <th>0</th>\n",
       "      <td>1</td>\n",
       "      <td>2018-01-02 01:00:00</td>\n",
       "      <td>0.416</td>\n",
       "      <td>0</td>\n",
       "    </tr>\n",
       "    <tr>\n",
       "      <th>1</th>\n",
       "      <td>2</td>\n",
       "      <td>2018-01-02 01:01:00</td>\n",
       "      <td>0.416</td>\n",
       "      <td>0</td>\n",
       "    </tr>\n",
       "    <tr>\n",
       "      <th>2</th>\n",
       "      <td>3</td>\n",
       "      <td>2018-01-02 01:02:00</td>\n",
       "      <td>0.416</td>\n",
       "      <td>0</td>\n",
       "    </tr>\n",
       "    <tr>\n",
       "      <th>3</th>\n",
       "      <td>4</td>\n",
       "      <td>2018-01-02 01:03:00</td>\n",
       "      <td>0.415</td>\n",
       "      <td>0</td>\n",
       "    </tr>\n",
       "    <tr>\n",
       "      <th>4</th>\n",
       "      <td>5</td>\n",
       "      <td>2018-01-02 01:04:00</td>\n",
       "      <td>0.416</td>\n",
       "      <td>0</td>\n",
       "    </tr>\n",
       "    <tr>\n",
       "      <th>...</th>\n",
       "      <td>...</td>\n",
       "      <td>...</td>\n",
       "      <td>...</td>\n",
       "      <td>...</td>\n",
       "    </tr>\n",
       "    <tr>\n",
       "      <th>419803</th>\n",
       "      <td>419804</td>\n",
       "      <td>2018-10-20 13:43:00</td>\n",
       "      <td>0.703</td>\n",
       "      <td>0</td>\n",
       "    </tr>\n",
       "    <tr>\n",
       "      <th>419804</th>\n",
       "      <td>419805</td>\n",
       "      <td>2018-10-20 13:44:00</td>\n",
       "      <td>0.704</td>\n",
       "      <td>0</td>\n",
       "    </tr>\n",
       "    <tr>\n",
       "      <th>419805</th>\n",
       "      <td>419806</td>\n",
       "      <td>2018-10-20 13:45:00</td>\n",
       "      <td>0.700</td>\n",
       "      <td>0</td>\n",
       "    </tr>\n",
       "    <tr>\n",
       "      <th>419806</th>\n",
       "      <td>419807</td>\n",
       "      <td>2018-10-20 13:46:00</td>\n",
       "      <td>0.678</td>\n",
       "      <td>0</td>\n",
       "    </tr>\n",
       "    <tr>\n",
       "      <th>419807</th>\n",
       "      <td>419808</td>\n",
       "      <td>2018-10-20 13:47:00</td>\n",
       "      <td>0.677</td>\n",
       "      <td>0</td>\n",
       "    </tr>\n",
       "  </tbody>\n",
       "</table>\n",
       "<p>419808 rows × 4 columns</p>\n",
       "</div>"
      ],
      "text/plain": [
       "        dataid          localminute  total_load  target\n",
       "0            1  2018-01-02 01:00:00       0.416       0\n",
       "1            2  2018-01-02 01:01:00       0.416       0\n",
       "2            3  2018-01-02 01:02:00       0.416       0\n",
       "3            4  2018-01-02 01:03:00       0.415       0\n",
       "4            5  2018-01-02 01:04:00       0.416       0\n",
       "...        ...                  ...         ...     ...\n",
       "419803  419804  2018-10-20 13:43:00       0.703       0\n",
       "419804  419805  2018-10-20 13:44:00       0.704       0\n",
       "419805  419806  2018-10-20 13:45:00       0.700       0\n",
       "419806  419807  2018-10-20 13:46:00       0.678       0\n",
       "419807  419808  2018-10-20 13:47:00       0.677       0\n",
       "\n",
       "[419808 rows x 4 columns]"
      ]
     },
     "execution_count": 4,
     "metadata": {},
     "output_type": "execute_result"
    }
   ],
   "source": [
    "traditional_file"
   ]
  },
  {
   "cell_type": "code",
   "execution_count": 5,
   "metadata": {},
   "outputs": [
    {
     "name": "stdout",
     "output_type": "stream",
     "text": [
      "<class 'pandas.core.frame.DataFrame'>\n",
      "RangeIndex: 419808 entries, 0 to 419807\n",
      "Data columns (total 4 columns):\n",
      " #   Column       Non-Null Count   Dtype  \n",
      "---  ------       --------------   -----  \n",
      " 0   dataid       419808 non-null  int64  \n",
      " 1   localminute  419808 non-null  object \n",
      " 2   total_load   419808 non-null  float64\n",
      " 3   target       419808 non-null  int64  \n",
      "dtypes: float64(1), int64(2), object(1)\n",
      "memory usage: 12.8+ MB\n"
     ]
    }
   ],
   "source": [
    "traditional_file.info()"
   ]
  },
  {
   "cell_type": "code",
   "execution_count": 6,
   "metadata": {},
   "outputs": [
    {
     "data": {
      "text/html": [
       "<div>\n",
       "<style scoped>\n",
       "    .dataframe tbody tr th:only-of-type {\n",
       "        vertical-align: middle;\n",
       "    }\n",
       "\n",
       "    .dataframe tbody tr th {\n",
       "        vertical-align: top;\n",
       "    }\n",
       "\n",
       "    .dataframe thead th {\n",
       "        text-align: right;\n",
       "    }\n",
       "</style>\n",
       "<table border=\"1\" class=\"dataframe\">\n",
       "  <thead>\n",
       "    <tr style=\"text-align: right;\">\n",
       "      <th></th>\n",
       "      <th>dataid</th>\n",
       "      <th>total_load</th>\n",
       "      <th>target</th>\n",
       "    </tr>\n",
       "  </thead>\n",
       "  <tbody>\n",
       "    <tr>\n",
       "      <th>count</th>\n",
       "      <td>419808.000000</td>\n",
       "      <td>419808.000000</td>\n",
       "      <td>419808.000000</td>\n",
       "    </tr>\n",
       "    <tr>\n",
       "      <th>mean</th>\n",
       "      <td>209904.500000</td>\n",
       "      <td>1.138576</td>\n",
       "      <td>0.054411</td>\n",
       "    </tr>\n",
       "    <tr>\n",
       "      <th>std</th>\n",
       "      <td>121188.275241</td>\n",
       "      <td>1.551522</td>\n",
       "      <td>0.226826</td>\n",
       "    </tr>\n",
       "    <tr>\n",
       "      <th>min</th>\n",
       "      <td>1.000000</td>\n",
       "      <td>-4.780000</td>\n",
       "      <td>0.000000</td>\n",
       "    </tr>\n",
       "    <tr>\n",
       "      <th>25%</th>\n",
       "      <td>104952.750000</td>\n",
       "      <td>0.277000</td>\n",
       "      <td>0.000000</td>\n",
       "    </tr>\n",
       "    <tr>\n",
       "      <th>50%</th>\n",
       "      <td>209904.500000</td>\n",
       "      <td>0.414000</td>\n",
       "      <td>0.000000</td>\n",
       "    </tr>\n",
       "    <tr>\n",
       "      <th>75%</th>\n",
       "      <td>314856.250000</td>\n",
       "      <td>1.177000</td>\n",
       "      <td>0.000000</td>\n",
       "    </tr>\n",
       "    <tr>\n",
       "      <th>max</th>\n",
       "      <td>419808.000000</td>\n",
       "      <td>15.404000</td>\n",
       "      <td>1.000000</td>\n",
       "    </tr>\n",
       "  </tbody>\n",
       "</table>\n",
       "</div>"
      ],
      "text/plain": [
       "              dataid     total_load         target\n",
       "count  419808.000000  419808.000000  419808.000000\n",
       "mean   209904.500000       1.138576       0.054411\n",
       "std    121188.275241       1.551522       0.226826\n",
       "min         1.000000      -4.780000       0.000000\n",
       "25%    104952.750000       0.277000       0.000000\n",
       "50%    209904.500000       0.414000       0.000000\n",
       "75%    314856.250000       1.177000       0.000000\n",
       "max    419808.000000      15.404000       1.000000"
      ]
     },
     "execution_count": 6,
     "metadata": {},
     "output_type": "execute_result"
    }
   ],
   "source": [
    "# display the statistical information\n",
    "traditional_file.describe()"
   ]
  },
  {
   "cell_type": "markdown",
   "metadata": {},
   "source": [
    " According to the information displayed above, it could be observed that the column type of **localminute** and **total_load** should be converted to datetime and category. In addition, there are negative values in the **total_load** column, where negative values are not supposed to appear. As a result, we will make some data pre-processing measure to process the raw data."
   ]
  },
  {
   "cell_type": "markdown",
   "metadata": {},
   "source": [
    "#### 3.1.1 Data Pre-processing"
   ]
  },
  {
   "cell_type": "markdown",
   "metadata": {},
   "source": [
    "**Convert column type**"
   ]
  },
  {
   "cell_type": "code",
   "execution_count": 24,
   "metadata": {},
   "outputs": [
    {
     "name": "stderr",
     "output_type": "stream",
     "text": [
      "E:\\Anaconda\\lib\\site-packages\\pandas\\core\\generic.py:5494: SettingWithCopyWarning: \n",
      "A value is trying to be set on a copy of a slice from a DataFrame.\n",
      "Try using .loc[row_indexer,col_indexer] = value instead\n",
      "\n",
      "See the caveats in the documentation: https://pandas.pydata.org/pandas-docs/stable/user_guide/indexing.html#returning-a-view-versus-a-copy\n",
      "  self[name] = value\n"
     ]
    }
   ],
   "source": [
    "# convert integer to category\n",
    "traditional_file.target = traditional_file.target.astype('category')"
   ]
  },
  {
   "cell_type": "code",
   "execution_count": 16,
   "metadata": {},
   "outputs": [
    {
     "name": "stderr",
     "output_type": "stream",
     "text": [
      "C:\\Users\\59914\\AppData\\Local\\Temp/ipykernel_12600/2181648000.py:1: SettingWithCopyWarning: \n",
      "A value is trying to be set on a copy of a slice from a DataFrame.\n",
      "Try using .loc[row_indexer,col_indexer] = value instead\n",
      "\n",
      "See the caveats in the documentation: https://pandas.pydata.org/pandas-docs/stable/user_guide/indexing.html#returning-a-view-versus-a-copy\n",
      "  traditional_file['localminute'] = pd.to_datetime(traditional_file['localminute'])\n"
     ]
    }
   ],
   "source": [
    "# convert the object to datetime \n",
    "traditional_file['localminute'] = pd.to_datetime(traditional_file['localminute'])"
   ]
  },
  {
   "cell_type": "markdown",
   "metadata": {},
   "source": [
    "**Remove duplicate**"
   ]
  },
  {
   "cell_type": "code",
   "execution_count": 22,
   "metadata": {},
   "outputs": [
    {
     "data": {
      "text/html": [
       "<div>\n",
       "<style scoped>\n",
       "    .dataframe tbody tr th:only-of-type {\n",
       "        vertical-align: middle;\n",
       "    }\n",
       "\n",
       "    .dataframe tbody tr th {\n",
       "        vertical-align: top;\n",
       "    }\n",
       "\n",
       "    .dataframe thead th {\n",
       "        text-align: right;\n",
       "    }\n",
       "</style>\n",
       "<table border=\"1\" class=\"dataframe\">\n",
       "  <thead>\n",
       "    <tr style=\"text-align: right;\">\n",
       "      <th></th>\n",
       "      <th>dataid</th>\n",
       "      <th>localminute</th>\n",
       "      <th>total_load</th>\n",
       "      <th>target</th>\n",
       "    </tr>\n",
       "  </thead>\n",
       "  <tbody>\n",
       "    <tr>\n",
       "      <th>0</th>\n",
       "      <td>1</td>\n",
       "      <td>2018-01-02 01:00:00</td>\n",
       "      <td>0.416</td>\n",
       "      <td>0</td>\n",
       "    </tr>\n",
       "    <tr>\n",
       "      <th>1</th>\n",
       "      <td>2</td>\n",
       "      <td>2018-01-02 01:01:00</td>\n",
       "      <td>0.416</td>\n",
       "      <td>0</td>\n",
       "    </tr>\n",
       "    <tr>\n",
       "      <th>2</th>\n",
       "      <td>3</td>\n",
       "      <td>2018-01-02 01:02:00</td>\n",
       "      <td>0.416</td>\n",
       "      <td>0</td>\n",
       "    </tr>\n",
       "    <tr>\n",
       "      <th>3</th>\n",
       "      <td>4</td>\n",
       "      <td>2018-01-02 01:03:00</td>\n",
       "      <td>0.415</td>\n",
       "      <td>0</td>\n",
       "    </tr>\n",
       "    <tr>\n",
       "      <th>4</th>\n",
       "      <td>5</td>\n",
       "      <td>2018-01-02 01:04:00</td>\n",
       "      <td>0.416</td>\n",
       "      <td>0</td>\n",
       "    </tr>\n",
       "    <tr>\n",
       "      <th>...</th>\n",
       "      <td>...</td>\n",
       "      <td>...</td>\n",
       "      <td>...</td>\n",
       "      <td>...</td>\n",
       "    </tr>\n",
       "    <tr>\n",
       "      <th>419803</th>\n",
       "      <td>419804</td>\n",
       "      <td>2018-10-20 13:43:00</td>\n",
       "      <td>0.703</td>\n",
       "      <td>0</td>\n",
       "    </tr>\n",
       "    <tr>\n",
       "      <th>419804</th>\n",
       "      <td>419805</td>\n",
       "      <td>2018-10-20 13:44:00</td>\n",
       "      <td>0.704</td>\n",
       "      <td>0</td>\n",
       "    </tr>\n",
       "    <tr>\n",
       "      <th>419805</th>\n",
       "      <td>419806</td>\n",
       "      <td>2018-10-20 13:45:00</td>\n",
       "      <td>0.700</td>\n",
       "      <td>0</td>\n",
       "    </tr>\n",
       "    <tr>\n",
       "      <th>419806</th>\n",
       "      <td>419807</td>\n",
       "      <td>2018-10-20 13:46:00</td>\n",
       "      <td>0.678</td>\n",
       "      <td>0</td>\n",
       "    </tr>\n",
       "    <tr>\n",
       "      <th>419807</th>\n",
       "      <td>419808</td>\n",
       "      <td>2018-10-20 13:47:00</td>\n",
       "      <td>0.677</td>\n",
       "      <td>0</td>\n",
       "    </tr>\n",
       "  </tbody>\n",
       "</table>\n",
       "<p>419808 rows × 4 columns</p>\n",
       "</div>"
      ],
      "text/plain": [
       "        dataid         localminute  total_load  target\n",
       "0            1 2018-01-02 01:00:00       0.416       0\n",
       "1            2 2018-01-02 01:01:00       0.416       0\n",
       "2            3 2018-01-02 01:02:00       0.416       0\n",
       "3            4 2018-01-02 01:03:00       0.415       0\n",
       "4            5 2018-01-02 01:04:00       0.416       0\n",
       "...        ...                 ...         ...     ...\n",
       "419803  419804 2018-10-20 13:43:00       0.703       0\n",
       "419804  419805 2018-10-20 13:44:00       0.704       0\n",
       "419805  419806 2018-10-20 13:45:00       0.700       0\n",
       "419806  419807 2018-10-20 13:46:00       0.678       0\n",
       "419807  419808 2018-10-20 13:47:00       0.677       0\n",
       "\n",
       "[419808 rows x 4 columns]"
      ]
     },
     "execution_count": 22,
     "metadata": {},
     "output_type": "execute_result"
    }
   ],
   "source": [
    "traditional_file.drop_duplicates()"
   ]
  },
  {
   "cell_type": "markdown",
   "metadata": {},
   "source": [
    "**Convert the negative values to possitive values??? why**"
   ]
  },
  {
   "cell_type": "code",
   "execution_count": 30,
   "metadata": {},
   "outputs": [
    {
     "name": "stderr",
     "output_type": "stream",
     "text": [
      "C:\\Users\\59914\\AppData\\Local\\Temp/ipykernel_12600/3184972222.py:2: SettingWithCopyWarning: \n",
      "A value is trying to be set on a copy of a slice from a DataFrame.\n",
      "Try using .loc[row_indexer,col_indexer] = value instead\n",
      "\n",
      "See the caveats in the documentation: https://pandas.pydata.org/pandas-docs/stable/user_guide/indexing.html#returning-a-view-versus-a-copy\n",
      "  traditional_file['total_load'] = traditional_file['total_load'].abs()\n"
     ]
    }
   ],
   "source": [
    "# show the \n",
    "traditional_file['total_load'] = traditional_file['total_load'].abs()\n",
    "# traditional_file[traditional_file['total_load'] <= 0]"
   ]
  },
  {
   "cell_type": "code",
   "execution_count": 32,
   "metadata": {},
   "outputs": [
    {
     "data": {
      "text/html": [
       "<div>\n",
       "<style scoped>\n",
       "    .dataframe tbody tr th:only-of-type {\n",
       "        vertical-align: middle;\n",
       "    }\n",
       "\n",
       "    .dataframe tbody tr th {\n",
       "        vertical-align: top;\n",
       "    }\n",
       "\n",
       "    .dataframe thead th {\n",
       "        text-align: right;\n",
       "    }\n",
       "</style>\n",
       "<table border=\"1\" class=\"dataframe\">\n",
       "  <thead>\n",
       "    <tr style=\"text-align: right;\">\n",
       "      <th></th>\n",
       "      <th>dataid</th>\n",
       "      <th>total_load</th>\n",
       "    </tr>\n",
       "  </thead>\n",
       "  <tbody>\n",
       "    <tr>\n",
       "      <th>count</th>\n",
       "      <td>419808.000000</td>\n",
       "      <td>419808.000000</td>\n",
       "    </tr>\n",
       "    <tr>\n",
       "      <th>mean</th>\n",
       "      <td>209904.500000</td>\n",
       "      <td>1.168551</td>\n",
       "    </tr>\n",
       "    <tr>\n",
       "      <th>std</th>\n",
       "      <td>121188.275241</td>\n",
       "      <td>1.529073</td>\n",
       "    </tr>\n",
       "    <tr>\n",
       "      <th>min</th>\n",
       "      <td>1.000000</td>\n",
       "      <td>0.001000</td>\n",
       "    </tr>\n",
       "    <tr>\n",
       "      <th>25%</th>\n",
       "      <td>104952.750000</td>\n",
       "      <td>0.279000</td>\n",
       "    </tr>\n",
       "    <tr>\n",
       "      <th>50%</th>\n",
       "      <td>209904.500000</td>\n",
       "      <td>0.417000</td>\n",
       "    </tr>\n",
       "    <tr>\n",
       "      <th>75%</th>\n",
       "      <td>314856.250000</td>\n",
       "      <td>1.232000</td>\n",
       "    </tr>\n",
       "    <tr>\n",
       "      <th>max</th>\n",
       "      <td>419808.000000</td>\n",
       "      <td>15.404000</td>\n",
       "    </tr>\n",
       "  </tbody>\n",
       "</table>\n",
       "</div>"
      ],
      "text/plain": [
       "              dataid     total_load\n",
       "count  419808.000000  419808.000000\n",
       "mean   209904.500000       1.168551\n",
       "std    121188.275241       1.529073\n",
       "min         1.000000       0.001000\n",
       "25%    104952.750000       0.279000\n",
       "50%    209904.500000       0.417000\n",
       "75%    314856.250000       1.232000\n",
       "max    419808.000000      15.404000"
      ]
     },
     "execution_count": 32,
     "metadata": {},
     "output_type": "execute_result"
    }
   ],
   "source": [
    "traditional_file.describe()"
   ]
  },
  {
   "cell_type": "markdown",
   "metadata": {},
   "source": [
    "### 3.1.2 Analysis of univariate and bivariate"
   ]
  },
  {
   "cell_type": "markdown",
   "metadata": {},
   "source": [
    "**Label Analysis**"
   ]
  },
  {
   "cell_type": "code",
   "execution_count": 41,
   "metadata": {},
   "outputs": [],
   "source": [
    "# https://www.statology.org/seaborn-barplot-show-values/\n",
    "\n",
    "# a function used to add values in the count plot\n",
    "def show_values(axs, orient=\"v\", space=.01):\n",
    "    def _single(ax):\n",
    "        if orient == \"v\":\n",
    "            for p in ax.patches:\n",
    "                _x = p.get_x() + p.get_width() / 2\n",
    "                _y = p.get_y() + p.get_height() + (p.get_height()*0.01)\n",
    "                value = '{:.1f}'.format(p.get_height())\n",
    "                ax.text(_x, _y, value, ha=\"center\") \n",
    "        elif orient == \"h\":\n",
    "            for p in ax.patches:\n",
    "                _x = p.get_x() + p.get_width() + float(space)\n",
    "                _y = p.get_y() + p.get_height() - (p.get_height()*0.5)\n",
    "                value = '{:.1f}'.format(p.get_width())\n",
    "                ax.text(_x, _y, value, ha=\"left\")\n",
    "\n",
    "    if isinstance(axs, np.ndarray):\n",
    "        for idx, ax in np.ndenumerate(axs):\n",
    "            _single(ax)\n",
    "    else:\n",
    "        _single(axs)"
   ]
  },
  {
   "cell_type": "code",
   "execution_count": 42,
   "metadata": {},
   "outputs": [
    {
     "data": {
      "image/png": "[encoded data removed]",
      "text/plain": [
       "<Figure size 432x288 with 1 Axes>"
      ]
     },
     "metadata": {
      "needs_background": "light"
     },
     "output_type": "display_data"
    }
   ],
   "source": [
    "# Distribution of the label\n",
    "p = sns.countplot(traditional_file['target'], color='gray')\n",
    "show_values(p)"
   ]
  },
  {
   "cell_type": "markdown",
   "metadata": {},
   "source": [
    "According to the plots displayed above, the charging time (target = 1) is **much longer than** the uncharging time(target = 0). ??补充？"
   ]
  },
  {
   "cell_type": "markdown",
   "metadata": {},
   "source": [
    "**Total_Load Analysis**"
   ]
  },
  {
   "cell_type": "code",
   "execution_count": 46,
   "metadata": {},
   "outputs": [
    {
     "data": {
      "text/plain": [
       "<AxesSubplot:ylabel='Density'>"
      ]
     },
     "execution_count": 46,
     "metadata": {},
     "output_type": "execute_result"
    },
    {
     "data": {
      "image/png": "[encoded data removed]",
      "text/plain": [
       "<Figure size 432x288 with 1 Axes>"
      ]
     },
     "metadata": {
      "needs_background": "light"
     },
     "output_type": "display_data"
    }
   ],
   "source": [
    "traditional_file[['total_load']].plot.kde(bw_method=2)#? 是否有别的选择"
   ]
  },
  {
   "cell_type": "code",
   "execution_count": 52,
   "metadata": {},
   "outputs": [
    {
     "data": {
      "image/png": "[encoded data removed]",
      "text/plain": [
       "<Figure size 432x288 with 1 Axes>"
      ]
     },
     "metadata": {
      "needs_background": "light"
     },
     "output_type": "display_data"
    }
   ],
   "source": [
    "boxplot = traditional_file.boxplot(column=['total_load'])  "
   ]
  },
  {
   "cell_type": "code",
   "execution_count": 53,
   "metadata": {},
   "outputs": [
    {
     "data": {
      "text/html": [
       "<div>\n",
       "<style scoped>\n",
       "    .dataframe tbody tr th:only-of-type {\n",
       "        vertical-align: middle;\n",
       "    }\n",
       "\n",
       "    .dataframe tbody tr th {\n",
       "        vertical-align: top;\n",
       "    }\n",
       "\n",
       "    .dataframe thead th {\n",
       "        text-align: right;\n",
       "    }\n",
       "</style>\n",
       "<table border=\"1\" class=\"dataframe\">\n",
       "  <thead>\n",
       "    <tr style=\"text-align: right;\">\n",
       "      <th></th>\n",
       "      <th>total_load</th>\n",
       "    </tr>\n",
       "  </thead>\n",
       "  <tbody>\n",
       "    <tr>\n",
       "      <th>count</th>\n",
       "      <td>419808.000000</td>\n",
       "    </tr>\n",
       "    <tr>\n",
       "      <th>mean</th>\n",
       "      <td>1.168551</td>\n",
       "    </tr>\n",
       "    <tr>\n",
       "      <th>std</th>\n",
       "      <td>1.529073</td>\n",
       "    </tr>\n",
       "    <tr>\n",
       "      <th>min</th>\n",
       "      <td>0.001000</td>\n",
       "    </tr>\n",
       "    <tr>\n",
       "      <th>25%</th>\n",
       "      <td>0.279000</td>\n",
       "    </tr>\n",
       "    <tr>\n",
       "      <th>50%</th>\n",
       "      <td>0.417000</td>\n",
       "    </tr>\n",
       "    <tr>\n",
       "      <th>75%</th>\n",
       "      <td>1.232000</td>\n",
       "    </tr>\n",
       "    <tr>\n",
       "      <th>max</th>\n",
       "      <td>15.404000</td>\n",
       "    </tr>\n",
       "  </tbody>\n",
       "</table>\n",
       "</div>"
      ],
      "text/plain": [
       "          total_load\n",
       "count  419808.000000\n",
       "mean        1.168551\n",
       "std         1.529073\n",
       "min         0.001000\n",
       "25%         0.279000\n",
       "50%         0.417000\n",
       "75%         1.232000\n",
       "max        15.404000"
      ]
     },
     "execution_count": 53,
     "metadata": {},
     "output_type": "execute_result"
    }
   ],
   "source": [
    "traditional_file[['total_load']].describe()"
   ]
  },
  {
   "cell_type": "markdown",
   "metadata": {},
   "source": [
    "From the plot and table above, it could be observed that most of the values are distributed around the zero. In addition, from the boxplot, most of the values are between 0 and 2, **while the others are well beyond Q3 + 1.5IQR a lot**. In this case, we would like to look how many values exceeds the threshold, which will be illustrated as follow."
   ]
  },
  {
   "cell_type": "code",
   "execution_count": 58,
   "metadata": {},
   "outputs": [],
   "source": [
    "# get the number of values beyong Q3 + 1.5IQR\n",
    "total_load_Q1 = traditional_file['total_load'].quantile(0.25)\n",
    "total_load_Q3 = traditional_file['total_load'].quantile(0.75)\n",
    "total_load_IQR = total_load_Q3 - total_load_Q1\n",
    "\n",
    "# Get the dataframe that save the \"outliers\"\n",
    "outliers_df = traditional_file.query('(@total_load_Q3 + 1.5 * @total_load_IQR) <= total_load ')"
   ]
  },
  {
   "cell_type": "code",
   "execution_count": 61,
   "metadata": {},
   "outputs": [
    {
     "data": {
      "text/html": [
       "<div>\n",
       "<style scoped>\n",
       "    .dataframe tbody tr th:only-of-type {\n",
       "        vertical-align: middle;\n",
       "    }\n",
       "\n",
       "    .dataframe tbody tr th {\n",
       "        vertical-align: top;\n",
       "    }\n",
       "\n",
       "    .dataframe thead th {\n",
       "        text-align: right;\n",
       "    }\n",
       "</style>\n",
       "<table border=\"1\" class=\"dataframe\">\n",
       "  <thead>\n",
       "    <tr style=\"text-align: right;\">\n",
       "      <th></th>\n",
       "      <th>dataid</th>\n",
       "      <th>localminute</th>\n",
       "      <th>total_load</th>\n",
       "      <th>target</th>\n",
       "    </tr>\n",
       "  </thead>\n",
       "  <tbody>\n",
       "    <tr>\n",
       "      <th>1637</th>\n",
       "      <td>1638</td>\n",
       "      <td>2018-01-03 04:17:00</td>\n",
       "      <td>2.841</td>\n",
       "      <td>0</td>\n",
       "    </tr>\n",
       "    <tr>\n",
       "      <th>3999</th>\n",
       "      <td>4000</td>\n",
       "      <td>2018-01-04 19:39:00</td>\n",
       "      <td>4.606</td>\n",
       "      <td>0</td>\n",
       "    </tr>\n",
       "    <tr>\n",
       "      <th>4000</th>\n",
       "      <td>4001</td>\n",
       "      <td>2018-01-04 19:40:00</td>\n",
       "      <td>4.554</td>\n",
       "      <td>0</td>\n",
       "    </tr>\n",
       "    <tr>\n",
       "      <th>4001</th>\n",
       "      <td>4002</td>\n",
       "      <td>2018-01-04 19:41:00</td>\n",
       "      <td>4.562</td>\n",
       "      <td>0</td>\n",
       "    </tr>\n",
       "    <tr>\n",
       "      <th>4002</th>\n",
       "      <td>4003</td>\n",
       "      <td>2018-01-04 19:42:00</td>\n",
       "      <td>5.176</td>\n",
       "      <td>0</td>\n",
       "    </tr>\n",
       "    <tr>\n",
       "      <th>...</th>\n",
       "      <td>...</td>\n",
       "      <td>...</td>\n",
       "      <td>...</td>\n",
       "      <td>...</td>\n",
       "    </tr>\n",
       "    <tr>\n",
       "      <th>419788</th>\n",
       "      <td>419789</td>\n",
       "      <td>2018-10-20 13:28:00</td>\n",
       "      <td>3.007</td>\n",
       "      <td>0</td>\n",
       "    </tr>\n",
       "    <tr>\n",
       "      <th>419789</th>\n",
       "      <td>419790</td>\n",
       "      <td>2018-10-20 13:29:00</td>\n",
       "      <td>3.206</td>\n",
       "      <td>0</td>\n",
       "    </tr>\n",
       "    <tr>\n",
       "      <th>419792</th>\n",
       "      <td>419793</td>\n",
       "      <td>2018-10-20 13:32:00</td>\n",
       "      <td>5.094</td>\n",
       "      <td>0</td>\n",
       "    </tr>\n",
       "    <tr>\n",
       "      <th>419795</th>\n",
       "      <td>419796</td>\n",
       "      <td>2018-10-20 13:35:00</td>\n",
       "      <td>4.441</td>\n",
       "      <td>0</td>\n",
       "    </tr>\n",
       "    <tr>\n",
       "      <th>419799</th>\n",
       "      <td>419800</td>\n",
       "      <td>2018-10-20 13:39:00</td>\n",
       "      <td>3.476</td>\n",
       "      <td>0</td>\n",
       "    </tr>\n",
       "  </tbody>\n",
       "</table>\n",
       "<p>83813 rows × 4 columns</p>\n",
       "</div>"
      ],
      "text/plain": [
       "        dataid         localminute  total_load target\n",
       "1637      1638 2018-01-03 04:17:00       2.841      0\n",
       "3999      4000 2018-01-04 19:39:00       4.606      0\n",
       "4000      4001 2018-01-04 19:40:00       4.554      0\n",
       "4001      4002 2018-01-04 19:41:00       4.562      0\n",
       "4002      4003 2018-01-04 19:42:00       5.176      0\n",
       "...        ...                 ...         ...    ...\n",
       "419788  419789 2018-10-20 13:28:00       3.007      0\n",
       "419789  419790 2018-10-20 13:29:00       3.206      0\n",
       "419792  419793 2018-10-20 13:32:00       5.094      0\n",
       "419795  419796 2018-10-20 13:35:00       4.441      0\n",
       "419799  419800 2018-10-20 13:39:00       3.476      0\n",
       "\n",
       "[83813 rows x 4 columns]"
      ]
     },
     "execution_count": 61,
     "metadata": {},
     "output_type": "execute_result"
    }
   ],
   "source": [
    "outliers_df"
   ]
  },
  {
   "cell_type": "markdown",
   "metadata": {},
   "source": [
    "It could be observed that there are 83813 rows whose total_load exceeds the **Q3+1.5IQR**. Subsequently, we would like to know the distribution of target in this dataset in order to judge whether there is an relation between these two variables."
   ]
  },
  {
   "cell_type": "code",
   "execution_count": 62,
   "metadata": {},
   "outputs": [
    {
     "name": "stderr",
     "output_type": "stream",
     "text": [
      "E:\\Anaconda\\lib\\site-packages\\seaborn\\_decorators.py:36: FutureWarning: Pass the following variable as a keyword arg: x. From version 0.12, the only valid positional argument will be `data`, and passing other arguments without an explicit keyword will result in an error or misinterpretation.\n",
      "  warnings.warn(\n"
     ]
    },
    {
     "data": {
      "image/png": "[encoded data removed]",
      "text/plain": [
       "<Figure size 432x288 with 1 Axes>"
      ]
     },
     "metadata": {
      "needs_background": "light"
     },
     "output_type": "display_data"
    }
   ],
   "source": [
    "# Distribution of the label\n",
    "p1 = sns.countplot(outliers_df['target'], color='gray')\n",
    "show_values(p1)"
   ]
  },
  {
   "cell_type": "markdown",
   "metadata": {},
   "source": [
    "From the target distribution in the raw data, there are total **22842** charging minutes. As a comparison, there are total **22410** charging minuts when the total load is beyond Q3+1.5IQR.In this case, we could assume there may have a **strong relation** between total_load and target label."
   ]
  },
  {
   "cell_type": "markdown",
   "metadata": {},
   "source": [
    "From the analysis illustrated above, we analyze the univariate varible and make some asssumption. After that, we will study the relationship between two or more varibles."
   ]
  },
  {
   "cell_type": "markdown",
   "metadata": {},
   "source": [
    "**Relationship between localminute and total_load**"
   ]
  },
  {
   "cell_type": "markdown",
   "metadata": {},
   "source": [
    "From this plot, "
   ]
  },
  {
   "cell_type": "code",
   "execution_count": 63,
   "metadata": {},
   "outputs": [],
   "source": [
    "tenp = traditional_file[['localminute','total_load']].groupby(pd.Grouper(key='localminute',freq=\"D\")).mean()\n",
    "dict1 = {}\n",
    "j = 0\n",
    "for i in tenp.index:\n",
    "    dict1.update({i:float(tenp.values[j])})\n",
    "    j+=1\n",
    "\n",
    "new_temp = pd.DataFrame(list(dict1.items()),columns = ['localminute','total_load'])\n",
    "groups = new_temp.groupby(pd.Grouper(key='localminute',freq=\"M\"))\n",
    "pd.Grouper\n",
    "dict2 = {}\n",
    "months = pd.DataFrame()\n",
    "array = []\n",
    "for name, group in groups:\n",
    "    #years[name.month] = group\n",
    "    for i in group.values.tolist():\n",
    "        array.append(round(i[1],2))\n",
    "    if len(array) <31:\n",
    "        for i in range(31-len(array)):\n",
    "            array.append(0.00)\n",
    "    months[name.month] = array\n",
    "    array = []"
   ]
  },
  {
   "cell_type": "code",
   "execution_count": 64,
   "metadata": {},
   "outputs": [
    {
     "data": {
      "image/png": "[encoded data removed]",
      "text/plain": [
       "<Figure size 1440x360 with 1 Axes>"
      ]
     },
     "metadata": {
      "needs_background": "light"
     },
     "output_type": "display_data"
    }
   ],
   "source": [
    "fig, ax = plot.subplots(1,1, figsize =(20,5))\n",
    "ax = months.boxplot()"
   ]
  },
  {
   "cell_type": "code",
   "execution_count": 65,
   "metadata": {
    "scrolled": true
   },
   "outputs": [
    {
     "data": {
      "text/plain": [
       "array([<AxesSubplot:>, <AxesSubplot:>, <AxesSubplot:>, <AxesSubplot:>,\n",
       "       <AxesSubplot:>, <AxesSubplot:>, <AxesSubplot:>, <AxesSubplot:>,\n",
       "       <AxesSubplot:>, <AxesSubplot:>], dtype=object)"
      ]
     },
     "execution_count": 65,
     "metadata": {},
     "output_type": "execute_result"
    },
    {
     "data": {
      "image/png": "[encoded data removed]",
      "text/plain": [
       "<Figure size 720x864 with 10 Axes>"
      ]
     },
     "metadata": {
      "needs_background": "light"
     },
     "output_type": "display_data"
    }
   ],
   "source": [
    "months.plot(subplots=True, legend=True, figsize=(10,12))"
   ]
  },
  {
   "cell_type": "code",
   "execution_count": 66,
   "metadata": {},
   "outputs": [
    {
     "data": {
      "image/png": "[encoded data removed]",
      "text/plain": [
       "<Figure size 792x648 with 4 Axes>"
      ]
     },
     "metadata": {
      "needs_background": "light"
     },
     "output_type": "display_data"
    }
   ],
   "source": [
    "# https://towardsdatascience.com/different-types-of-time-series-decomposition-396c09f92693\n",
    "# https://zhuanlan.zhihu.com/p/302325061 分解图\n",
    "# https://betterprogramming.pub/a-visual-guide-to-time-series-decomposition-analysis-a1472bb9c930\n",
    "from statsmodels.tsa.seasonal import STL\n",
    "rcParams['figure.figsize'] = 11, 9 \n",
    "res = STL(tenp['total_load']).fit()\n",
    "res.plot()\n",
    "plot.show()"
   ]
  },
  {
   "cell_type": "code",
   "execution_count": null,
   "metadata": {},
   "outputs": [],
   "source": [
    "####????解释"
   ]
  },
  {
   "cell_type": "markdown",
   "metadata": {},
   "source": [
    "## 1.3 visualizing the relationship between week and month"
   ]
  },
  {
   "cell_type": "code",
   "execution_count": 67,
   "metadata": {},
   "outputs": [
    {
     "name": "stderr",
     "output_type": "stream",
     "text": [
      "findfont: Font family ['Helvetica'] not found. Falling back to DejaVu Sans.\n"
     ]
    },
    {
     "data": {
      "text/plain": [
       "(<Figure size 900x122.4 with 2 Axes>,\n",
       " array([<AxesSubplot:ylabel='2018'>], dtype=object))"
      ]
     },
     "execution_count": 67,
     "metadata": {},
     "output_type": "execute_result"
    },
    {
     "data": {
      "image/png": "[encoded data removed]",
      "text/plain": [
       "<Figure size 900x122.4 with 2 Axes>"
      ]
     },
     "metadata": {
      "needs_background": "light"
     },
     "output_type": "display_data"
    }
   ],
   "source": [
    "calplot.calplot(tenp['total_load'], edgecolor=None, cmap = 'afmhot_r',suptitle = 'the averaage total load in every week')"
   ]
  },
  {
   "cell_type": "markdown",
   "metadata": {},
   "source": [
    "# 2. feature selection"
   ]
  },
  {
   "cell_type": "markdown",
   "metadata": {},
   "source": [
    "## 2.1 add feature from the part 1"
   ]
  },
  {
   "cell_type": "code",
   "execution_count": null,
   "metadata": {},
   "outputs": [],
   "source": [
    "traditional_file['month'] = traditional_file['localminute'].map(lambda x:x.month)\n",
    "# sunday is 0 \n",
    "# traditional_file['week'] = traditional_file['localminute'].map(lambda x:x.dayofweek)\n",
    "traditional_file['day'] = traditional_file['localminute'].map(lambda x:x.day)\n",
    "traditional_file['hour'] = traditional_file['localminute'].map(lambda x:x.hour)\n",
    "# del traditional_file['week']"
   ]
  },
  {
   "cell_type": "code",
   "execution_count": null,
   "metadata": {},
   "outputs": [],
   "source": [
    "# 分为白天黑夜\n",
    "\n",
    "traditional_file['midnight'] = traditional_file['localminute'].dt.hour.isin(range(1,7)).astype(int)"
   ]
  },
  {
   "cell_type": "code",
   "execution_count": null,
   "metadata": {},
   "outputs": [],
   "source": [
    "fig, ax = plot.subplots(1,1, figsize =(20,5))\n",
    "ax = sns.violinplot(x=\"hour\", y=\"total_load\", data=traditional_file)\n",
    "ax.set_title('the boxplot total_load for each month in 24 hours')"
   ]
  },
  {
   "cell_type": "markdown",
   "metadata": {},
   "source": [
    "## 2.2 using tsfresh to extract additional features"
   ]
  },
  {
   "cell_type": "code",
   "execution_count": null,
   "metadata": {},
   "outputs": [],
   "source": [
    "# file.index = np.arange(1, len(file)+1)\n",
    "# target = file['target']\n",
    "# other = file.drop('target', axis= 1 )"
   ]
  },
  {
   "cell_type": "code",
   "execution_count": null,
   "metadata": {},
   "outputs": [],
   "source": [
    "# features_filtered_direct = extract_relevant_features(other, target,\n",
    "#                                                      column_id='dataid' column_sort='localminute',column_value = 'total_load')"
   ]
  },
  {
   "cell_type": "markdown",
   "metadata": {},
   "source": [
    "## 2.3 more research in a"
   ]
  },
  {
   "cell_type": "code",
   "execution_count": null,
   "metadata": {},
   "outputs": [],
   "source": [
    "Radar_file = traditional_file[['total_load','month','hour']].groupby(['month', 'hour']).mean()\n",
    "Radar_name = list(set(traditional_file.hour))\n",
    "Radar_name[0] = 24\n",
    "\n",
    "angles=np.linspace(0,2*np.pi,len(Radar_name), endpoint=False)\n",
    "\n",
    "fig=plot.figure(figsize=(13,13))\n",
    "ax=fig.add_subplot(111, polar=True)\n",
    "ax.set_title('the average total_load for each month in 24 hours')\n",
    "for i in range(10):\n",
    "    ax.plot(angles,Radar_file.total_load[i+1].values, 'o-', linewidth=2, label=i+1)\n",
    "    ax.fill(angles, Radar_file.total_load[i+1].values, alpha=0.05)\n",
    "ax.set_thetagrids(angles * 180/np.pi, Radar_name)\n",
    "plot.grid(True)\n",
    "plot.tight_layout()\n",
    "plot.legend()\n",
    "plot.show()"
   ]
  },
  {
   "cell_type": "code",
   "execution_count": null,
   "metadata": {},
   "outputs": [],
   "source": [
    "# sang ?\n",
    "# survery the average time to charge\n",
    "traditional_file"
   ]
  },
  {
   "cell_type": "code",
   "execution_count": null,
   "metadata": {},
   "outputs": [],
   "source": [
    "traditional_file"
   ]
  },
  {
   "cell_type": "code",
   "execution_count": null,
   "metadata": {},
   "outputs": [],
   "source": [
    "# use to calcualte the average charge time and corresponding total_load time\n",
    "from statistics import mean\n",
    "def calculate_avg_load_charge(original_df):\n",
    "    # save the charge time\n",
    "    charge_time = []\n",
    "    # save the corresponding total load values\n",
    "    total_load_values = []\n",
    "    # save the date informatin of current \n",
    "    flag = False\n",
    "    # record the charge time of every time\n",
    "    each_charge_time = 0\n",
    "    each_total_load = []\n",
    "    for index, row in original_df.iterrows():\n",
    "        current_charge_time = row['target']\n",
    "        if current_charge_time == 1 and flag is False:\n",
    "            flag = True\n",
    "        if flag is True and current_charge_time == 1:\n",
    "            \n",
    "            each_charge_time = each_charge_time + 1\n",
    "            each_total_load.append(row['total_load']) \n",
    "        if current_charge_time == 0 and flag is True:\n",
    "            \n",
    "            flag = False\n",
    "            charge_time.append(each_charge_time)\n",
    "            total_load_values.append(mean(each_total_load))\n",
    "            each_charge_time = 0\n",
    "            each_total_load = []\n",
    "\n",
    "    # return the result\n",
    "    result = pd.DataFrame({'total_load': total_load_values, 'charge_time': charge_time})\n",
    "    return result"
   ]
  },
  {
   "cell_type": "code",
   "execution_count": null,
   "metadata": {},
   "outputs": [],
   "source": [
    "new_df"
   ]
  },
  {
   "cell_type": "code",
   "execution_count": null,
   "metadata": {},
   "outputs": [],
   "source": [
    "new_df = calculate_avg_load_charge(traditional_file)"
   ]
  },
  {
   "cell_type": "code",
   "execution_count": null,
   "metadata": {},
   "outputs": [],
   "source": [
    "new_df.describe()"
   ]
  },
  {
   "cell_type": "markdown",
   "metadata": {},
   "source": [
    "According to the result shown above, it could be observed that the average charging time is 54.1 minutes. Also, it could be observed that the average total load when the EV is being charging is about 4.82, and **1/4 quantile** is about **4.15**. In this case, we would like to create a new column which is used to judge whether current total_load values is exceed the 1/4 quantile."
   ]
  },
  {
   "cell_type": "markdown",
   "metadata": {},
   "source": [
    "???添加is_高耗电量？？？？？中位数还是均值"
   ]
  },
  {
   "cell_type": "code",
   "execution_count": null,
   "metadata": {},
   "outputs": [],
   "source": [
    "traditional_file['high_load'] = traditional_file.total_load.apply(lambda x: 1 if x>4.15 else 0)"
   ]
  },
  {
   "cell_type": "code",
   "execution_count": null,
   "metadata": {},
   "outputs": [],
   "source": [
    "traditional_file"
   ]
  },
  {
   "cell_type": "markdown",
   "metadata": {},
   "source": [
    "## 3. trainning model"
   ]
  },
  {
   "cell_type": "code",
   "execution_count": null,
   "metadata": {},
   "outputs": [],
   "source": [
    "file['month'] = traditional_file['localminute'].map(lambda x:x.month)\n",
    "# sunday is 0 \n",
    "# traditional_file['week'] = traditional_file['localminute'].map(lambda x:x.dayofweek)\n",
    "file['day'] = traditional_file['localminute'].map(lambda x:x.day)\n",
    "file['hour'] = traditional_file['localminute'].map(lambda x:x.hour)"
   ]
  },
  {
   "cell_type": "code",
   "execution_count": null,
   "metadata": {},
   "outputs": [],
   "source": [
    "file['midnight'] = traditional_file['localminute'].dt.hour.isin(range(1,7)).astype(int)"
   ]
  },
  {
   "cell_type": "code",
   "execution_count": null,
   "metadata": {},
   "outputs": [],
   "source": [
    "train_data,test_data = train_test_split(file,train_size=0.8,shuffle=False)\n",
    "\n",
    "train_label = train_data['target']\n",
    "train_data = train_data.drop(['dataid','localminute','target'],axis=1)\n",
    "\n",
    "test_label = test_data['target']\n",
    "test_data = test_data.drop(['dataid','localminute','target'],axis=1)"
   ]
  },
  {
   "cell_type": "code",
   "execution_count": null,
   "metadata": {},
   "outputs": [],
   "source": [
    "f1 = {}\n",
    "precision = {}"
   ]
  },
  {
   "cell_type": "markdown",
   "metadata": {},
   "source": [
    "### 3.1 KNN"
   ]
  },
  {
   "cell_type": "code",
   "execution_count": null,
   "metadata": {},
   "outputs": [],
   "source": [
    "knn = KNeighborsClassifier(n_neighbors=30)\n",
    "\n",
    "knn.fit(train_data,train_label)\n",
    "knn_prediction = knn.predict(test_data)\n",
    "f1['knn'] = f1_score(test_label,knn_prediction)\n",
    "precision['knn'] = precision_score(test_label,knn_prediction)"
   ]
  },
  {
   "cell_type": "markdown",
   "metadata": {},
   "source": [
    "### 3.2 logestic"
   ]
  },
  {
   "cell_type": "code",
   "execution_count": null,
   "metadata": {},
   "outputs": [],
   "source": [
    "lm = LogisticRegression()\n",
    "\n",
    "lm.fit(train_data,train_label)\n",
    "lm_prediction = lm.predict(test_data)\n",
    "f1['lm'] = f1_score(test_label,lm_prediction)\n",
    "precision['lm'] = precision_score(test_label,lm_prediction)"
   ]
  },
  {
   "cell_type": "markdown",
   "metadata": {},
   "source": [
    "### 3.3 lgbm "
   ]
  },
  {
   "cell_type": "code",
   "execution_count": null,
   "metadata": {},
   "outputs": [],
   "source": [
    "lgbm = LGBMClassifier(num_leaves=31,n_estimators=1500,learning_rate=0.01)\n",
    "\n",
    "lgbm.fit(train_data,train_label,eval_set=(test_data,test_label),verbose=50)\n",
    "lgbm_prediction = lgbm.predict(test_data,num_iteration=lgbm.best_iteration_)\n",
    "f1['lgbm'] = f1_score(test_label,lgbm_prediction)\n",
    "precision['lgbm'] = precision_score(test_label,lgbm_prediction)"
   ]
  },
  {
   "cell_type": "markdown",
   "metadata": {},
   "source": [
    "### 3.4 XGboost"
   ]
  },
  {
   "cell_type": "code",
   "execution_count": null,
   "metadata": {},
   "outputs": [],
   "source": [
    "xgb = XGBClassifier()\n",
    "\n",
    "xgb.fit(train_data,train_label)\n",
    "xgb_prediction = xgb.predict(test_data)\n",
    "f1['xgb'] = f1_score(test_label,xgb_prediction)\n",
    "precision['xgb'] = precision_score(test_label,xgb_prediction)"
   ]
  },
  {
   "cell_type": "markdown",
   "metadata": {},
   "source": [
    "### 3.5 MLP"
   ]
  },
  {
   "cell_type": "code",
   "execution_count": null,
   "metadata": {},
   "outputs": [],
   "source": [
    "train_data"
   ]
  },
  {
   "cell_type": "code",
   "execution_count": null,
   "metadata": {},
   "outputs": [],
   "source": [
    "from keras.layers.core import Dense, Dropout\n",
    "from keras.optimizers import RMSprop\n",
    "from keras.models import Sequential\n",
    "\n",
    "model = Sequential()\n",
    "model.add(Dense(units = 128, input_dim=11, activation='relu'))\n",
    "model.add(Dropout(0.2))    \n",
    "model.add(Dense(units = 64,  input_dim=11, activation='relu'))    \n",
    "model.add(Dropout(0.2))\n",
    "model.add(Dense(units = 1, activation = 'linear'))\n",
    "model.summary()\n",
    "model.compile(loss='mean_squared_error', optimizer=RMSprop(lr = 0.01))\n",
    "\n",
    "model.fit(train_data.values,train_label.values, epochs=100, batch_size=50, verbose=50)\n",
    "\n",
    "mlp_prediction = model.predict(test_data)\n",
    "\n",
    "ttt = []\n",
    "for i in mlp_prediction:\n",
    "    if i>=0.5:\n",
    "        ttt.append(1)\n",
    "    else:\n",
    "        ttt.append(0)\n",
    "\n",
    "f1['mlp'] = f1_score(test_label,np.array(ttt))\n",
    "precision['mlp'] = precision_score(test_label,np.array(ttt))"
   ]
  },
  {
   "cell_type": "code",
   "execution_count": null,
   "metadata": {},
   "outputs": [],
   "source": [
    "f1"
   ]
  },
  {
   "cell_type": "code",
   "execution_count": null,
   "metadata": {},
   "outputs": [],
   "source": [
    "precision"
   ]
  },
  {
   "cell_type": "code",
   "execution_count": null,
   "metadata": {},
   "outputs": [],
   "source": []
  }
 ],
 "metadata": {
  "interpreter": {
   "hash": "dc07d24e2f18896857f0b2a651fe84ba40ce7b297e58d8804a308c8039f752a6"
  },
  "kernelspec": {
   "display_name": "Python 3.8.5 ('base')",
   "language": "python",
   "name": "python3"
  },
  "language_info": {
   "codemirror_mode": {
    "name": "ipython",
    "version": 3
   },
   "file_extension": ".py",
   "mimetype": "text/x-python",
   "name": "python",
   "nbconvert_exporter": "python",
   "pygments_lexer": "ipython3",
   "version": "3.8.5"
  }
 },
 "nbformat": 4,
 "nbformat_minor": 4
}
